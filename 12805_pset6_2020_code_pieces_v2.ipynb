{
  "nbformat": 4,
  "nbformat_minor": 0,
  "metadata": {
    "kernelspec": {
      "display_name": "Python 3",
      "language": "python",
      "name": "python3"
    },
    "language_info": {
      "codemirror_mode": {
        "name": "ipython",
        "version": 3
      },
      "file_extension": ".py",
      "mimetype": "text/x-python",
      "name": "python",
      "nbconvert_exporter": "python",
      "pygments_lexer": "ipython3",
      "version": "3.8.6"
    },
    "colab": {
      "name": "12805_pset6_2020_code_pieces.ipynb",
      "provenance": [],
      "include_colab_link": true
    }
  },
  "cells": [
    {
      "cell_type": "markdown",
      "metadata": {
        "id": "view-in-github",
        "colab_type": "text"
      },
      "source": [
        "<a href=\"https://colab.research.google.com/github/jtomfarrar/MIT12.805/blob/main/12805_pset6_2020_code_pieces_v2.ipynb\" target=\"_parent\"><img src=\"https://colab.research.google.com/assets/colab-badge.svg\" alt=\"Open In Colab\"/></a>"
      ]
    },
    {
      "cell_type": "markdown",
      "metadata": {
        "id": "xiVSgZ7h-9e7"
      },
      "source": [
        "# Develop and test python code for 12.805 pset6\n",
        "Tom Farrar  \n",
        "November 12, 2020\n",
        "\n",
        "\n",
        "Specifically, the goal is to develop functions analogous to the MATLAB ones I provided called ```centeredFFT.m```, ```band_avg.m```, ```confid.m```, and ```confidence_interval.m```."
      ]
    },
    {
      "cell_type": "code",
      "metadata": {
        "id": "bhWs5kuy-9fC"
      },
      "source": [
        "import numpy as np\n",
        "import matplotlib.pyplot as plt\n",
        "import datetime as datetime\n",
        "from scipy import fft\n",
        "from scipy import stats\n"
      ],
      "execution_count": 1,
      "outputs": []
    },
    {
      "cell_type": "markdown",
      "metadata": {
        "id": "JpiUMMZB-9fS"
      },
      "source": [
        "Define some functions to use"
      ]
    },
    {
      "cell_type": "code",
      "metadata": {
        "id": "tJZCfY5i-9fU"
      },
      "source": [
        "def centeredFFT(x, dt):\n",
        "    \"\"\"\n",
        "    Computes FFT, with zero frequency in the center, and returns \n",
        "    dimensional frequency vector.\n",
        "    X, freq = centeredFFT(x, dt)\n",
        "    \n",
        "    Parameters\n",
        "    ----------\n",
        "    x : numeric\n",
        "        1D array to be transformed by FFT\n",
        "    dt : numeric\n",
        "        Time increment (used to compute dimensional freuency array)\n",
        "\n",
        "    Returns (tuple)\n",
        "    -------\n",
        "    X: FFT of input x, with zero frequency in the center\n",
        "    freq: Dimensional frequency vector corresponding to X\n",
        "\n",
        "    #function [X,freq]=centeredFFT(x,dt)\n",
        "    #\n",
        "    # Adapted from a matlab function written by Quan Quach of blinkdagger.com \n",
        "    # Tom Farrar, 2016, 2020 jfarrar@whoi.edu\n",
        "    # converted from matlab 2020\n",
        "    # This code was written for MIT 12.805 class\n",
        "    \"\"\"\n",
        "    N = len(x)\n",
        "    #Generate frequency index\n",
        "    if N % 2 == 0:\n",
        "        m= np.arange(-N/2,N/2,1) # N even; this includes start (-N/2) and does not include stop (+N/2)\n",
        "        #m = mslice[-N / 2:N / 2 - 1]    # N even (Matlab syntax)\n",
        "    else:\n",
        "        m= np.arange(-(N-1)/2,(N-1)/2+1,1) # N odd\n",
        "        #m = mslice[-(N - 1) / 2:(N - 1) / 2]    # N odd (Matlab syntax)\n",
        "    \n",
        "    freq = m / (N * dt) #the dimensional frequency scale\n",
        "    X = fft.fft(x)\n",
        "    X = fft.fftshift(X) #swaps the halves of the FFT vector so that the zero frequency is in the center\\\\\n",
        "    #If you are going to compute an IFFT, first use X=ifftshift(X) to undo the shift}\n",
        "    return (X, freq) # Return tuple; could instead do this as dictionary or list\n"
      ],
      "execution_count": 2,
      "outputs": []
    },
    {
      "cell_type": "code",
      "metadata": {
        "id": "fLFRoIyj-9ff"
      },
      "source": [
        "def band_avg(yy, num):\n",
        "    '''\n",
        "    Compute block averages for band averaging.\n",
        "\n",
        "    Parameters\n",
        "    ----------\n",
        "    yy : np.array\n",
        "        1D array to be averaged.\n",
        "    num : numeric\n",
        "        number of adjacent data points to average.\n",
        "\n",
        "    Returns\n",
        "    -------\n",
        "    Bin-averaged version of input data, subsampled by the factor num\n",
        "\n",
        "    # Tom Farrar, 2016, 2020 jfarrar@whoi.edu\n",
        "    # This code was written for MIT 12.805 class\n",
        "\n",
        "    '''\n",
        "    #MATLAB code:\n",
        "    #yyi=0;\n",
        "    #for n=1:num\n",
        "    # yyi=yy(n:num:[end-(num-n)])+yyi;\n",
        "    #end\n",
        "    \n",
        "    yyi = 0\n",
        "    for n in np.arange(0, num): # 1:num\n",
        "        yyi=yy[n:-(num-n):num]+yyi;\n",
        "        \n",
        "    yy_avg=yyi/num\n",
        "    \n",
        "    return yy_avg\n"
      ],
      "execution_count": 3,
      "outputs": []
    },
    {
      "cell_type": "markdown",
      "metadata": {
        "id": "QNopGgU4-9fk"
      },
      "source": [
        "Try to test the band-averaging code, which is actually just a bin average"
      ]
    },
    {
      "cell_type": "code",
      "metadata": {
        "id": "tg0gZ58M-9fn"
      },
      "source": [
        "N = 20000\n",
        "dt = 1\n",
        "t = np.arange(0,N*dt,dt)\n",
        "f = 20/((N-1)*dt)\n",
        "noise_val = 0.2 # desired noise std deviation\n",
        "yb = 1 + noise_val*np.random.randn(N,)+0.75*np.sin(2*np.pi*f*t)\n"
      ],
      "execution_count": 4,
      "outputs": []
    },
    {
      "cell_type": "code",
      "metadata": {
        "id": "iitkcYwu-9ft",
        "colab": {
          "base_uri": "https://localhost:8080/",
          "height": 314
        },
        "outputId": "c327fa17-237d-4753-c2b4-504ebed9cebc"
      },
      "source": [
        "fig = plt.figure()\n",
        "plt.plot(t, yb)\n",
        "plt.title('A sinusoid plus noise')\n",
        "# plt.ylabel('Z position (m)')\n",
        "plt.xlabel('Time')\n",
        "\n"
      ],
      "execution_count": 5,
      "outputs": [
        {
          "output_type": "execute_result",
          "data": {
            "text/plain": [
              "Text(0.5, 0, 'Time')"
            ]
          },
          "metadata": {
            "tags": []
          },
          "execution_count": 5
        },
        {
          "output_type": "display_data",
          "data": {
            "image/png": "[encoded data removed]",
            "text/plain": [
              "<Figure size 432x288 with 1 Axes>"
            ]
          },
          "metadata": {
            "tags": [],
            "needs_background": "light"
          }
        }
      ]
    },
    {
      "cell_type": "code",
      "metadata": {
        "id": "G32w8o_p-9f2"
      },
      "source": [
        "navg = 19\n",
        "y_avg = band_avg(yb, navg)\n",
        "t_avg = band_avg(t, navg)"
      ],
      "execution_count": 6,
      "outputs": []
    },
    {
      "cell_type": "code",
      "metadata": {
        "id": "9FAkY4Mv-9f-",
        "colab": {
          "base_uri": "https://localhost:8080/"
        },
        "outputId": "adc0fd7a-462e-4d9b-b852-3c1bc54958ff"
      },
      "source": [
        "np.shape(y_avg)"
      ],
      "execution_count": 7,
      "outputs": [
        {
          "output_type": "execute_result",
          "data": {
            "text/plain": [
              "(999,)"
            ]
          },
          "metadata": {
            "tags": []
          },
          "execution_count": 7
        }
      ]
    },
    {
      "cell_type": "code",
      "metadata": {
        "id": "wyCr4TOd-9gC",
        "colab": {
          "base_uri": "https://localhost:8080/",
          "height": 300
        },
        "outputId": "24e550aa-b5d2-42c0-ba68-45e0ae74d7d9"
      },
      "source": [
        "fig = plt.figure()\n",
        "plt.plot(t_avg, y_avg)\n",
        "plt.title('Bin averaged version of the time series above')\n",
        "# plt.ylabel('Z position (m)')\n",
        "# plt.xlabel('Time')"
      ],
      "execution_count": 8,
      "outputs": [
        {
          "output_type": "execute_result",
          "data": {
            "text/plain": [
              "Text(0.5, 1.0, 'Bin averaged version of the time series above')"
            ]
          },
          "metadata": {
            "tags": []
          },
          "execution_count": 8
        },
        {
          "output_type": "display_data",
          "data": {
            "image/png": "[encoded data removed]",
            "text/plain": [
              "<Figure size 432x288 with 1 Axes>"
            ]
          },
          "metadata": {
            "tags": [],
            "needs_background": "light"
          }
        }
      ]
    },
    {
      "cell_type": "markdown",
      "metadata": {
        "id": "tCOqveB8-9gF"
      },
      "source": [
        "OK, great! The bin average code seems to work. (We could test this more rigorously, but OK so far.)"
      ]
    },
    {
      "cell_type": "markdown",
      "metadata": {
        "id": "wFxKzFFF-9gH"
      },
      "source": [
        "OK, now let's try doing a spectrum.  First, though, let's recall what we are wanting to do overall.  We want to make a function to estimate the band-averaged spectrum and plot it with a 95% confidence interval.  To do that, we will follow the steps from Section 4.7.1 of the class notes on spectral analysis:\n",
        "  1. Compute the mean of the time series, $x(t)$ and subtract it from the time series.\n",
        "  2. Optional: Taper the record using a taper window, $x_{taper}(t)=w(t)x(t)$.   A taper that gives equal weight to most of the record (like a Tukey window) may adequately suppress leakage, if tapering is needed at all. Normalize the taper window such that $ \\frac{1}{N}\\sum_{n=1}^{N} w_n^{2}=1$ so that the tapered time series has the same variance as the original one. (As an alternative to the normalizing the window, one could rescale the Fourier coefficients by the square root of the normalization constant, which is equivalent. Some prefer to compute the variance prior to windowing and rescale the spectrum to have that variance, which is also also fine but does not give identical results).\n",
        "  3. Compute the FFT of the entire tapered record.\n",
        "  4. Generate a frequency vector, $f_m=m/(N \\Delta t)$ with m ranging from $-N/2$ to $N/2-1$ (for even $N$).\n",
        "  5. Compute the raw, one-sided spectral density and discard frequencies $\\leq0$.\n",
        "  6. Band average the raw spectrum over $n_d$ frequency bands-- this could be done by an algorithm like equation \\ref{band_avg_spectrum} or by computing a running average and subsampling.  Generate the new frequency vector, either by subsampling the Fourier frequencies at the interval of $n_d/T$ or by band averaging the frequency vector.\n",
        "  7. Estimate a confidence interval (typically a 95\\% confidence interval).  If no taper window was used, $2\\times n_d$ is a good estimate of the number of degrees of freedom.  Tapering reduces the number of degrees of freedom because it reduces the linear independence of adjacent frequency bands; if the taper window is modest (uniform weighting over most of the time series), this reduction can be neglected.\n",
        "\n",
        "Let's try following those steps and then put it together as a function.\n",
        "\n",
        "             "
      ]
    },
    {
      "cell_type": "markdown",
      "metadata": {
        "id": "DukC2Gnr-9gI"
      },
      "source": [
        "1. Compute the mean of the time series, $x(t)$ and subtract it from the time series."
      ]
    },
    {
      "cell_type": "code",
      "metadata": {
        "id": "oYAs6eii-9gK"
      },
      "source": [
        "yy = yb # just renaming yb to mimic matlab code i have already written\n",
        "N = len(yy)\n",
        "T = N * dt\n",
        "yy = yy - np.mean(yy)"
      ],
      "execution_count": 9,
      "outputs": []
    },
    {
      "cell_type": "markdown",
      "metadata": {
        "id": "sVpOigC9-9gO"
      },
      "source": [
        "2. Optional: Taper the record using a taper window, $x_{taper}(t)=w(t)x(t)$.\n",
        "--> Let's skip that for now!"
      ]
    },
    {
      "cell_type": "markdown",
      "metadata": {
        "id": "UsJoaaT7-9gP"
      },
      "source": [
        "3. Compute the FFT of the entire tapered record."
      ]
    },
    {
      "cell_type": "code",
      "metadata": {
        "id": "PNhXP4hG-9gP"
      },
      "source": [
        "(Y,freq_i) = centeredFFT(yy,dt)"
      ],
      "execution_count": 10,
      "outputs": []
    },
    {
      "cell_type": "markdown",
      "metadata": {
        "id": "QcbF1i3h-9gU"
      },
      "source": [
        "  4. Generate a frequency vector, $f_m=m/(N \\Delta t)$ with m ranging from $-N/2$ to $N/2-1$ (for even $N$).\n",
        "  --> This was done by centeredFFT\n",
        "  \n",
        "  5. Compute the raw, one-sided spectral density and discard frequencies $\\leq0$.\n",
        "  --> Nomalization factor should be $2T/N^2$\n"
      ]
    },
    {
      "cell_type": "code",
      "metadata": {
        "id": "80wl9l4B-9gV"
      },
      "source": [
        "ff = np.where(freq_i>0)\n",
        "Y = Y[ff]\n",
        "freq_i = freq_i[ff]\n",
        "YY_raw = 2*T/N**2*Y*np.conj(Y)"
      ],
      "execution_count": 11,
      "outputs": []
    },
    {
      "cell_type": "markdown",
      "metadata": {
        "id": "Bh0PDuPj-9gZ"
      },
      "source": [
        "  6. Band average the raw spectrum over $n_d$ frequency bands-- this could be done by an algorithm like equation \\ref{band_avg_spectrum} or by computing a running average and subsampling.  Generate the new frequency vector, either by subsampling the Fourier frequencies at the interval of $n_d/T$ or by band averaging the frequency vector.  \n",
        "--> We will use our band-averaging function on both the spectrum and the frequency vector."
      ]
    },
    {
      "cell_type": "code",
      "metadata": {
        "id": "6SUQFuhn-9gb"
      },
      "source": [
        "M = 11\n",
        "YY_avg = band_avg(YY_raw,M)\n",
        "freq = band_avg(freq_i,M)"
      ],
      "execution_count": 12,
      "outputs": []
    },
    {
      "cell_type": "code",
      "metadata": {
        "id": "P7v8_aqR-9gf",
        "colab": {
          "base_uri": "https://localhost:8080/",
          "height": 300
        },
        "outputId": "55f5bba4-a8a7-41ce-89f4-e340cd128feb"
      },
      "source": [
        "fig = plt.figure()\n",
        "plt.plot(freq, np.real(YY_avg))\n",
        "plt.plot(freq, np.imag(YY_avg))\n",
        "plt.title('Band-averaged spectral estimate')"
      ],
      "execution_count": 13,
      "outputs": [
        {
          "output_type": "execute_result",
          "data": {
            "text/plain": [
              "Text(0.5, 1.0, 'Band-averaged spectral estimate')"
            ]
          },
          "metadata": {
            "tags": []
          },
          "execution_count": 13
        },
        {
          "output_type": "display_data",
          "data": {
            "image/png": "[encoded data removed]",
            "text/plain": [
              "<Figure size 432x288 with 1 Axes>"
            ]
          },
          "metadata": {
            "tags": [],
            "needs_background": "light"
          }
        }
      ]
    },
    {
      "cell_type": "markdown",
      "metadata": {
        "id": "W2QWoM_R-9gi"
      },
      "source": [
        "We were expecting the imaginary part to be zero.  It appears to be nonzero.  This may be a numerical artifact, but let's check this out."
      ]
    },
    {
      "cell_type": "code",
      "metadata": {
        "id": "EgY5rbVK-9gj",
        "colab": {
          "base_uri": "https://localhost:8080/",
          "height": 300
        },
        "outputId": "e5c05d5d-bfa1-489b-ad49-5586afc90841"
      },
      "source": [
        "fig = plt.figure()\n",
        "plt.plot(freq, np.imag(YY_avg))\n",
        "plt.title('Imaginary part of spectral estimate')"
      ],
      "execution_count": 14,
      "outputs": [
        {
          "output_type": "execute_result",
          "data": {
            "text/plain": [
              "Text(0.5, 1.0, 'Imaginary part of spectral estimate')"
            ]
          },
          "metadata": {
            "tags": []
          },
          "execution_count": 14
        },
        {
          "output_type": "display_data",
          "data": {
            "image/png": "[encoded data removed]",
            "text/plain": [
              "<Figure size 432x288 with 1 Axes>"
            ]
          },
          "metadata": {
            "tags": [],
            "needs_background": "light"
          }
        }
      ]
    },
    {
      "cell_type": "markdown",
      "metadata": {
        "id": "PVksvSAF-9gn"
      },
      "source": [
        "OK, just as I suspected, the imaginary part is a numerical artifact, close to floating point precision.  The best way to handle this in the function we will build would probably be to check if the inputs are real, and, if they are, then just throw away the imaginary part of our spectral estimate.  (If the input time series is complex, we should expect some imaginary part in the spectrum.)"
      ]
    },
    {
      "cell_type": "code",
      "metadata": {
        "id": "Vnl8nxiW-9go",
        "colab": {
          "base_uri": "https://localhost:8080/",
          "height": 304
        },
        "outputId": "731bbcab-c412-4bc5-e237-d7a7254e58e0"
      },
      "source": [
        "fig = plt.figure()\n",
        "plt.loglog(freq, np.real(YY_avg))\n",
        "plt.title('Band-averaged spectral estimate')"
      ],
      "execution_count": 15,
      "outputs": [
        {
          "output_type": "execute_result",
          "data": {
            "text/plain": [
              "Text(0.5, 1.0, 'Band-averaged spectral estimate')"
            ]
          },
          "metadata": {
            "tags": []
          },
          "execution_count": 15
        },
        {
          "output_type": "display_data",
          "data": {
            "image/png": "[encoded data removed]",
            "text/plain": [
              "<Figure size 432x288 with 1 Axes>"
            ]
          },
          "metadata": {
            "tags": [],
            "needs_background": "light"
          }
        }
      ]
    },
    {
      "cell_type": "markdown",
      "metadata": {
        "id": "WECuTrRh-9gt"
      },
      "source": [
        "OK, I need axis labels (and units), but this isn't too terrible."
      ]
    },
    {
      "cell_type": "markdown",
      "metadata": {
        "id": "n5sX7C8e-9gt"
      },
      "source": [
        "# Try working out confidence limits\n",
        "In MATLAB, ```chi2inv(alpha/2,nu)``` returns $\\chi^2_{\\nu;\\alpha/2}$. To compute confidence intervals, you simply need to compute the multiplicative factors $\\nu/\\chi^2_{\\nu;\\alpha/2}$ and $\\nu/\\chi^2_{\\nu;1-\\alpha/2}$.  Check values (e.g., Jenkins and Watts, 1968, p. 81) are $\\nu/\\chi^2_{19;0.025}=0.58$ and $\\nu/\\chi^2_{19;0.975}=2.11$ (I get 0.5783 and 2.1333 in MATLAB).\n",
        "\n",
        "It seems that the analogous function in python's scipy.stats module is the \"Inverse survival function\" (stats.chi2.isf), which is defined as $\\frac{1}{1-\\textrm{cdf}}$, where $\\textrm{cdf}$ is the cumulative distribution function of the chi-square distribution:\n",
        "https://docs.scipy.org/doc/scipy/reference/generated/scipy.stats.chi2.html#scipy.stats.chi2\n"
      ]
    },
    {
      "cell_type": "code",
      "metadata": {
        "id": "Vx9axhw6-9gu",
        "colab": {
          "base_uri": "https://localhost:8080/"
        },
        "outputId": "500d9d22-c7b5-4d80-f595-227467f521bf"
      },
      "source": [
        "nu = 19\n",
        "chi = stats.chi2.isf(0.025, nu)\n",
        "nu / chi"
      ],
      "execution_count": 16,
      "outputs": [
        {
          "output_type": "execute_result",
          "data": {
            "text/plain": [
              "0.5783456398680075"
            ]
          },
          "metadata": {
            "tags": []
          },
          "execution_count": 16
        }
      ]
    },
    {
      "cell_type": "code",
      "metadata": {
        "id": "PojurW_b-9gy",
        "colab": {
          "base_uri": "https://localhost:8080/"
        },
        "outputId": "6b0dce91-3b49-41e5-8a7b-ed7a1091fc37"
      },
      "source": [
        "chi = stats.chi2.isf(1-0.025, nu)\n",
        "nu / chi"
      ],
      "execution_count": 17,
      "outputs": [
        {
          "output_type": "execute_result",
          "data": {
            "text/plain": [
              "2.1332695042359724"
            ]
          },
          "metadata": {
            "tags": []
          },
          "execution_count": 17
        }
      ]
    },
    {
      "cell_type": "markdown",
      "metadata": {
        "id": "ZZ-Fj9Fj-9g1"
      },
      "source": [
        "Great! We are ready to write the function that is analgous to confid.m!"
      ]
    },
    {
      "cell_type": "code",
      "metadata": {
        "id": "RLJU65-I-9g1"
      },
      "source": [
        "def confid(alpha,nu):\n",
        "    \"\"\"\n",
        "    Computes the upper and lower 100(1-alpha)% confidence limits for \n",
        "    a chi-square variate (e.g., alpha=0.05 gives a 95% confidence interval).\n",
        "    Check values (e.g., Jenkins and Watts, 1968, p. 81) are $\\nu/\\chi^2_{19;0.025}=0.58$\n",
        "    and $\\nu/\\chi^2_{19;0.975}=2.11$ (I get 0.5783 and 2.1333 in MATLAB).\n",
        "    \n",
        "   \n",
        "    Parameters\n",
        "    ----------\n",
        "    alpha : numeric\n",
        "        Number of degrees of freedom\n",
        "    nu : numeric\n",
        "        Number of degrees of freedom\n",
        "\n",
        "    Returns (tuple)\n",
        "    -------\n",
        "    lower: lower bound of confidence interval\n",
        "    upper: upper bound of confidence interval\n",
        "\n",
        "    # Tom Farrar, 2020, jfarrar@whoi.edu\n",
        "    # converted from matlab 2020\n",
        "    # This code was written for MIT 12.805 class\n",
        "    \"\"\"\n",
        "    \n",
        "    # requires:\n",
        "    # from scipy import stats\n",
        "    \n",
        "    upperv=stats.chi2.isf(1-alpha/2,nu)\n",
        "    lowerv=stats.chi2.isf(alpha/2,nu)\n",
        "    lower=nu / lowerv\n",
        "    upper=nu / upperv\n",
        "    \n",
        "    return (lower, upper) # Return tuple; could instead do this as dictionary or list\n",
        "    \n",
        "\n"
      ],
      "execution_count": 18,
      "outputs": []
    },
    {
      "cell_type": "markdown",
      "metadata": {
        "id": "qE5tak4K-9g5"
      },
      "source": [
        "Check again:"
      ]
    },
    {
      "cell_type": "code",
      "metadata": {
        "id": "WoJz62Ru-9g6"
      },
      "source": [
        "nu = 19\n",
        "alpha = 0.05\n",
        "lower, upper = confid(alpha, nu)"
      ],
      "execution_count": 19,
      "outputs": []
    },
    {
      "cell_type": "code",
      "metadata": {
        "id": "3GOrWfW4-9g-",
        "colab": {
          "base_uri": "https://localhost:8080/"
        },
        "outputId": "a91ee17d-a5f2-4ddc-d424-e4ca912486f3"
      },
      "source": [
        "lower"
      ],
      "execution_count": 20,
      "outputs": [
        {
          "output_type": "execute_result",
          "data": {
            "text/plain": [
              "0.5783456398680075"
            ]
          },
          "metadata": {
            "tags": []
          },
          "execution_count": 20
        }
      ]
    },
    {
      "cell_type": "code",
      "metadata": {
        "id": "Lhvgnpj7-9hC",
        "colab": {
          "base_uri": "https://localhost:8080/"
        },
        "outputId": "9e860aa1-f19d-493c-930f-3e99b8cfa645"
      },
      "source": [
        "upper"
      ],
      "execution_count": 21,
      "outputs": [
        {
          "output_type": "execute_result",
          "data": {
            "text/plain": [
              "2.1332695042359724"
            ]
          },
          "metadata": {
            "tags": []
          },
          "execution_count": 21
        }
      ]
    },
    {
      "cell_type": "markdown",
      "metadata": {
        "id": "_ES39J2jc68v"
      },
      "source": [
        "OK, that worked fine.  Now let's write a function that will place a nice error bar (confidence interval) on a log-log spectral plot."
      ]
    },
    {
      "cell_type": "markdown",
      "metadata": {
        "id": "icH63OjSdTo_"
      },
      "source": [
        "Here's what my matlab code for that looked like:\n",
        "```\n",
        "function confidence_interval(alpha,nu,spot,yspot,wid,cstr);\n",
        "% confidence_interval(alpha,nu,xspot,yspot,width,cstr);\n",
        "%\n",
        "%  Plot (1-alpha)*100% spectral confidence interval on a log-log scale\n",
        "%\n",
        "% Inputs:\n",
        "%\talpha, 100*alpha is the percentage point of the chi-square distribution\n",
        "%\t\tFor example, use alpha=0.05 for a 95% confidence interval\n",
        "%\tnu, number of degrees of freedom\n",
        "%\txspot, horizontal coordinate for confidence interval (e.g., xspot=freq(3);)\n",
        "%\tyspot, vertical coordinate for confidence interval\n",
        "%\twidth, width for top and bottom horizontal bars\n",
        "%\tcstr, color for confidence interval \n",
        "%\t\t(for example, cstr='r'; or cstr=get(h1,'color');)\n",
        "%\n",
        "%\n",
        "%\n",
        "% This code was written for MIT 12.805 class\n",
        "%\n",
        "% Tom Farrar, 2016, jfarrar@whoi.edu\n",
        "\n",
        "[low,up]=confid(alpha,nu);\n",
        "\n",
        "lowzz=yspot*low;\n",
        "upzz=yspot*up;\n",
        "%plot confidence interval\n",
        "loglog(spot,yspot,'o','color',cstr);\n",
        "h3=loglog([spot spot], [lowzz,upzz],'color',cstr);\n",
        "loglog([spot+wid spot-wid], [upzz,upzz],'color',cstr);\n",
        "loglog([spot+wid spot-wid], [lowzz,lowzz],'color',cstr);\n",
        "hh=text(1.1*spot,yspot,[num2str(100*(1-alpha)) '%']);\n",
        "set(hh,'horizontalalignment','left')\n",
        "```\n",
        "\n"
      ]
    },
    {
      "cell_type": "code",
      "metadata": {
        "id": "Aqg1ajSBddUo"
      },
      "source": [
        ""
      ],
      "execution_count": null,
      "outputs": []
    },
    {
      "cell_type": "code",
      "metadata": {
        "id": "lziyzyD4esNG"
      },
      "source": [
        "N = 20000\n",
        "dt = 1\n",
        "t = np.arange(0,N*dt,dt)\n",
        "f = 20/((N-1)*dt)\n",
        "noise_val = 0.2 # desired noise std deviation\n",
        "yy = 1 + noise_val*np.random.randn(N,)+0.75*np.sin(2*np.pi*f*t)\n",
        "\n",
        "N = len(yy)\n",
        "T = N * dt\n",
        "# Compute the mean of the time series and subtract it\n",
        "yy = yy - np.mean(yy)\n",
        "\n",
        "# Compute FFT and frequency scale, with lowest frequency in the center\n",
        "(Y,freq_i) = centeredFFT(yy,dt)\n",
        "# Discard negative frequencies \n",
        "ff = np.where(freq_i>0)\n",
        "Y = Y[ff]\n",
        "freq_i = freq_i[ff]\n",
        "# Apply normalization for 1-sided spectral density\n",
        "YY_raw = 2*T/N**2*Y*np.conj(Y)\n",
        "\n",
        "#Carry out band averaging\n",
        "M = 11\n",
        "YY_avg = band_avg(YY_raw,M)\n",
        "freq = band_avg(freq_i,M)"
      ],
      "execution_count": null,
      "outputs": []
    }
  ]
}